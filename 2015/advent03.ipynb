{
 "cells": [
  {
   "cell_type": "code",
   "execution_count": 28,
   "metadata": {},
   "outputs": [],
   "source": [
    "f = open('input03.txt')\n",
    "d = f.read().splitlines()[0]\n",
    "f.close()"
   ]
  },
  {
   "cell_type": "code",
   "execution_count": 29,
   "metadata": {},
   "outputs": [
    {
     "data": {
      "text/plain": [
       "'^><^>>>^<^'"
      ]
     },
     "execution_count": 29,
     "metadata": {},
     "output_type": "execute_result"
    }
   ],
   "source": [
    "d[:10]"
   ]
  },
  {
   "cell_type": "code",
   "execution_count": 38,
   "metadata": {},
   "outputs": [],
   "source": [
    "p = {}\n",
    "p[(0,0)] = 1\n",
    "\n",
    "# Part 1\n",
    "'''\n",
    "x, y = 0, 0\n",
    "for c in d:    \n",
    "    if c == '^':\n",
    "        y -= 1\n",
    "    elif c == '>':\n",
    "        x += 1\n",
    "    elif c == '<':\n",
    "        x -= 1\n",
    "    else: # v\n",
    "        y += 1\n",
    "    if (x,y) in p:\n",
    "        p[(x,y)] += 1\n",
    "    else:\n",
    "        p[(x,y)] = 1\n",
    "'''\n",
    "\n",
    "# Part 2\n",
    "p = {}\n",
    "p[(0,0)] = 1\n",
    "\n",
    "x, y = 0, 0\n",
    "x_rs, y_rs = 0, 0\n",
    "\n",
    "rs = False\n",
    "for c in d:    \n",
    "    if rs:\n",
    "        if c == '^':\n",
    "            y_rs -= 1\n",
    "        elif c == '>':\n",
    "            x_rs += 1\n",
    "        elif c == '<':\n",
    "            x_rs -= 1\n",
    "        else: # v\n",
    "            y_rs += 1\n",
    "        if (x_rs, y_rs) in p:\n",
    "            p[(x_rs, y_rs)] += 1\n",
    "        else:\n",
    "            p[(x_rs, y_rs)] = 1\n",
    "        rs = False\n",
    "    else:\n",
    "        if c == '^':\n",
    "            y -= 1\n",
    "        elif c == '>':\n",
    "            x += 1\n",
    "        elif c == '<':\n",
    "            x -= 1\n",
    "        else: # v\n",
    "            y += 1        \n",
    "        if (x,y) in p:\n",
    "            p[(x,y)] += 1\n",
    "        else:\n",
    "            p[(x,y)] = 1\n",
    "        rs = True    "
   ]
  },
  {
   "cell_type": "code",
   "execution_count": 40,
   "metadata": {},
   "outputs": [
    {
     "data": {
      "text/plain": [
       "{(0, 0): 3,\n",
       " (0, -1): 3,\n",
       " (1, 0): 1,\n",
       " (-1, -1): 1,\n",
       " (1, -1): 2,\n",
       " (2, -1): 1,\n",
       " (2, -2): 1,\n",
       " (2, -3): 1,\n",
       " (1, -3): 2,\n",
       " (0, 1): 2,\n",
       " (1, -4): 2,\n",
       " (1, 1): 1,\n",
       " (0, -4): 1}"
      ]
     },
     "execution_count": 40,
     "metadata": {},
     "output_type": "execute_result"
    }
   ],
   "source": [
    "p"
   ]
  },
  {
   "cell_type": "code",
   "execution_count": 35,
   "metadata": {},
   "outputs": [
    {
     "name": "stdout",
     "output_type": "stream",
     "text": [
      "Requirement already satisfied: pandas in /srv/conda/envs/notebook/lib/python3.7/site-packages (0.25.3)\r\n",
      "Requirement already satisfied: pytz>=2017.2 in /srv/conda/envs/notebook/lib/python3.7/site-packages (from pandas) (2019.3)\r\n",
      "Requirement already satisfied: python-dateutil>=2.6.1 in /srv/conda/envs/notebook/lib/python3.7/site-packages (from pandas) (2.8.0)\r\n",
      "Requirement already satisfied: numpy>=1.13.3 in /srv/conda/envs/notebook/lib/python3.7/site-packages (from pandas) (1.17.4)\r\n",
      "Requirement already satisfied: six>=1.5 in /srv/conda/envs/notebook/lib/python3.7/site-packages (from python-dateutil>=2.6.1->pandas) (1.12.0)\r\n"
     ]
    }
   ],
   "source": [
    "!pip install pandas\n",
    "import pandas as pd"
   ]
  },
  {
   "cell_type": "code",
   "execution_count": 39,
   "metadata": {},
   "outputs": [
    {
     "data": {
      "text/html": [
       "<div>\n",
       "<style scoped>\n",
       "    .dataframe tbody tr th:only-of-type {\n",
       "        vertical-align: middle;\n",
       "    }\n",
       "\n",
       "    .dataframe tbody tr th {\n",
       "        vertical-align: top;\n",
       "    }\n",
       "\n",
       "    .dataframe thead th {\n",
       "        text-align: right;\n",
       "    }\n",
       "</style>\n",
       "<table border=\"1\" class=\"dataframe\">\n",
       "  <thead>\n",
       "    <tr style=\"text-align: right;\">\n",
       "      <th></th>\n",
       "      <th>0</th>\n",
       "    </tr>\n",
       "  </thead>\n",
       "  <tbody>\n",
       "    <tr>\n",
       "      <th>(0, 0)</th>\n",
       "      <td>3</td>\n",
       "    </tr>\n",
       "    <tr>\n",
       "      <th>(0, -1)</th>\n",
       "      <td>3</td>\n",
       "    </tr>\n",
       "    <tr>\n",
       "      <th>(1, 0)</th>\n",
       "      <td>1</td>\n",
       "    </tr>\n",
       "    <tr>\n",
       "      <th>(-1, -1)</th>\n",
       "      <td>1</td>\n",
       "    </tr>\n",
       "    <tr>\n",
       "      <th>(1, -1)</th>\n",
       "      <td>2</td>\n",
       "    </tr>\n",
       "    <tr>\n",
       "      <th>(2, -1)</th>\n",
       "      <td>1</td>\n",
       "    </tr>\n",
       "    <tr>\n",
       "      <th>(2, -2)</th>\n",
       "      <td>1</td>\n",
       "    </tr>\n",
       "    <tr>\n",
       "      <th>(2, -3)</th>\n",
       "      <td>1</td>\n",
       "    </tr>\n",
       "    <tr>\n",
       "      <th>(1, -3)</th>\n",
       "      <td>2</td>\n",
       "    </tr>\n",
       "    <tr>\n",
       "      <th>(0, 1)</th>\n",
       "      <td>2</td>\n",
       "    </tr>\n",
       "    <tr>\n",
       "      <th>(1, -4)</th>\n",
       "      <td>2</td>\n",
       "    </tr>\n",
       "    <tr>\n",
       "      <th>(1, 1)</th>\n",
       "      <td>1</td>\n",
       "    </tr>\n",
       "    <tr>\n",
       "      <th>(0, -4)</th>\n",
       "      <td>1</td>\n",
       "    </tr>\n",
       "  </tbody>\n",
       "</table>\n",
       "</div>"
      ],
      "text/plain": [
       "          0\n",
       "(0, 0)    3\n",
       "(0, -1)   3\n",
       "(1, 0)    1\n",
       "(-1, -1)  1\n",
       "(1, -1)   2\n",
       "(2, -1)   1\n",
       "(2, -2)   1\n",
       "(2, -3)   1\n",
       "(1, -3)   2\n",
       "(0, 1)    2\n",
       "(1, -4)   2\n",
       "(1, 1)    1\n",
       "(0, -4)   1"
      ]
     },
     "execution_count": 39,
     "metadata": {},
     "output_type": "execute_result"
    }
   ],
   "source": [
    "df = pd.DataFrame.from_dict(p, orient='index')\n",
    "df"
   ]
  },
  {
   "cell_type": "code",
   "execution_count": 37,
   "metadata": {},
   "outputs": [
    {
     "data": {
      "text/plain": [
       "13"
      ]
     },
     "execution_count": 37,
     "metadata": {},
     "output_type": "execute_result"
    }
   ],
   "source": [
    "df.size"
   ]
  },
  {
   "cell_type": "code",
   "execution_count": null,
   "metadata": {},
   "outputs": [],
   "source": []
  }
 ],
 "metadata": {
  "kernelspec": {
   "display_name": "Python 3",
   "language": "python",
   "name": "python3"
  },
  "language_info": {
   "codemirror_mode": {
    "name": "ipython",
    "version": 3
   },
   "file_extension": ".py",
   "mimetype": "text/x-python",
   "name": "python",
   "nbconvert_exporter": "python",
   "pygments_lexer": "ipython3",
   "version": "3.7.3"
  }
 },
 "nbformat": 4,
 "nbformat_minor": 2
}
